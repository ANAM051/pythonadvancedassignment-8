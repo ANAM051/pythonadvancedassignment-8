{
 "cells": [
  {
   "cell_type": "markdown",
   "id": "b64ebacc",
   "metadata": {},
   "source": [
    "Q1. What are the two latest user-defined exception constraints in Python 3.X?\n",
    "\n",
    "Q2. How are class-based exceptions that have been raised matched to handlers?\n",
    "\n",
    "Q3. Describe two methods for attaching context information to exception artefacts.\n",
    "\n",
    "Q4. Describe two methods for specifying the text of an exception object&#39;s error message.\n",
    "\n",
    "Q5. Why do you no longer use string-based exceptions?"
   ]
  },
  {
   "cell_type": "code",
   "execution_count": null,
   "id": "d2ada5f5",
   "metadata": {},
   "outputs": [],
   "source": [
    "1.Python 3.X has two new constraints on user-defined exceptions. They are:\n",
    "\n",
    "a.All exceptions must be derived from the BaseException class or one of its subclasses .\n",
    "b.You cannot create an exception that does not inherit from the built-in exception hierarchy 1."
   ]
  },
  {
   "cell_type": "code",
   "execution_count": null,
   "id": "ff6eb9af",
   "metadata": {},
   "outputs": [],
   "source": [
    "2.class based exception matched to the inheritance property of the base class. "
   ]
  },
  {
   "cell_type": "code",
   "execution_count": null,
   "id": "aed34512",
   "metadata": {},
   "outputs": [],
   "source": [
    "3.By using __context_ attribute and logging."
   ]
  },
  {
   "cell_type": "markdown",
   "id": "f03d3c01",
   "metadata": {},
   "source": [
    "4.a.passing the message as an argument while raising the exception.\n",
    "b.You can create a custom exception class that inherits from a built-in exception class and define the error message text within the custom class. For example, you can create a custom CustomError class that inherits from ValueError and define the error message text within the __init__ method of the CustomError class like this:"
   ]
  },
  {
   "cell_type": "code",
   "execution_count": null,
   "id": "ed972b39",
   "metadata": {},
   "outputs": [],
   "source": [
    "class CustomError(ValueError):\n",
    "    def __init__(self, message=\"This is a custom error message.\"):\n",
    "        super().__init__(message)\n",
    "\n",
    "raise CustomError()"
   ]
  },
  {
   "cell_type": "markdown",
   "id": "cfd03073",
   "metadata": {},
   "source": [
    "5. Using them can lead to compatibility issues and make it difficult to maintain or update your code. String-based exceptions provide less information about the error compared to custom exception classes."
   ]
  }
 ],
 "metadata": {
  "kernelspec": {
   "display_name": "Python 3 (ipykernel)",
   "language": "python",
   "name": "python3"
  },
  "language_info": {
   "codemirror_mode": {
    "name": "ipython",
    "version": 3
   },
   "file_extension": ".py",
   "mimetype": "text/x-python",
   "name": "python",
   "nbconvert_exporter": "python",
   "pygments_lexer": "ipython3",
   "version": "3.9.12"
  }
 },
 "nbformat": 4,
 "nbformat_minor": 5
}
